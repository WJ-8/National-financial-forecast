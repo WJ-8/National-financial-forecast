{
 "cells": [
  {
   "cell_type": "code",
   "execution_count": 1,
   "outputs": [],
   "source": [
    "import pandas as pd\n",
    "import matplotlib \n",
    "import numpy as np"
   ],
   "metadata": {
    "collapsed": false,
    "ExecuteTime": {
     "end_time": "2023-11-27T11:01:59.896323Z",
     "start_time": "2023-11-27T11:01:59.453604800Z"
    }
   },
   "id": "a087dbe88e90db60"
  },
  {
   "cell_type": "code",
   "execution_count": 7,
   "outputs": [
    {
     "name": "stdout",
     "output_type": "stream",
     "text": [
      "开始训练模型：LinearRegression\n",
      "平均绝对误差为： 25.370611474200302\n",
      "*-**-**-**-**-**-**-**-**-**-**-**-**-**-**-*\n",
      "开始训练模型：KNNRegressor\n",
      "平均绝对误差为： 58.71609999999998\n",
      "*-**-**-**-**-**-**-**-**-**-**-**-**-**-**-*\n",
      "开始训练模型：MLPRegressor\n",
      "平均绝对误差为： 585.4816210830074\n",
      "*-**-**-**-**-**-**-**-**-**-**-**-**-**-**-*\n",
      "开始训练模型：DecisionTree\n",
      "平均绝对误差为： 0.0\n",
      "*-**-**-**-**-**-**-**-**-**-**-**-**-**-**-*\n",
      "开始训练模型：ExtraTree\n",
      "平均绝对误差为： 0.0\n",
      "*-**-**-**-**-**-**-**-**-**-**-**-**-**-**-*\n",
      "开始训练模型：XGBoost\n",
      "平均绝对误差为： 0.0008752136230405938\n",
      "*-**-**-**-**-**-**-**-**-**-**-**-**-**-**-*\n",
      "开始训练模型：RandomForest\n",
      "平均绝对误差为： 25.903884999999764\n",
      "*-**-**-**-**-**-**-**-**-**-**-**-**-**-**-*\n",
      "开始训练模型：AdaBoost\n"
     ]
    },
    {
     "name": "stderr",
     "output_type": "stream",
     "text": [
      "D:\\ProgramData\\Anaconda3\\envs\\tf\\lib\\site-packages\\sklearn\\neural_network\\_multilayer_perceptron.py:691: ConvergenceWarning: Stochastic Optimizer: Maximum iterations (200) reached and the optimization hasn't converged yet.\n",
      "  warnings.warn(\n"
     ]
    },
    {
     "name": "stdout",
     "output_type": "stream",
     "text": [
      "平均绝对误差为： 12.773558333333344\n",
      "*-**-**-**-**-**-**-**-**-**-**-**-**-**-**-*\n",
      "开始训练模型：GradientBoost\n",
      "平均绝对误差为： 0.015166774587801513\n",
      "*-**-**-**-**-**-**-**-**-**-**-**-**-**-**-*\n",
      "开始训练模型：Bagging\n",
      "平均绝对误差为： 24.832700000000038\n",
      "*-**-**-**-**-**-**-**-**-**-**-**-**-**-**-*\n",
      "开始训练模型：ElasticNet\n",
      "平均绝对误差为： 73.54035945379705\n",
      "*-**-**-**-**-**-**-**-**-**-**-**-**-**-**-*\n"
     ]
    }
   ],
   "source": [
    "from sklearn.linear_model import LinearRegression # 线性回归\n",
    "from sklearn.neighbors import KNeighborsRegressor # K近邻回归\n",
    "from sklearn.neural_network import MLPRegressor # 神经网络回归\n",
    "from sklearn.tree import DecisionTreeRegressor # 决策树回归\n",
    "from sklearn.tree import ExtraTreeRegressor # 极端随机森林回归\n",
    "from xgboost import XGBRegressor # XGBoot\n",
    "from sklearn.ensemble import RandomForestRegressor # 随机森林回归\n",
    "from sklearn.ensemble import AdaBoostRegressor  # Adaboost 集成学习\n",
    "from sklearn.ensemble import GradientBoostingRegressor # 集成学习梯度提升决策树\n",
    "from sklearn.ensemble import BaggingRegressor # bagging回归\n",
    "from sklearn.linear_model import ElasticNet\n",
    "\n",
    "from sklearn.metrics import explained_variance_score,\\\n",
    "mean_absolute_error,mean_squared_error,\\\n",
    "median_absolute_error,r2_score\n",
    "\n",
    "models=[LinearRegression(),KNeighborsRegressor(),MLPRegressor(alpha=20),DecisionTreeRegressor(),ExtraTreeRegressor(),XGBRegressor(),RandomForestRegressor(),AdaBoostRegressor(),GradientBoostingRegressor(),BaggingRegressor(),ElasticNet()]\n",
    "models_str=['LinearRegression','KNNRegressor','MLPRegressor','DecisionTree','ExtraTree','XGBoost','RandomForest','AdaBoost','GradientBoost','Bagging','ElasticNet']\n",
    "\n",
    "\n",
    "\n",
    "# 提取数据\n",
    "   # 数据标准化，这里使用标准差标准化\n",
    "x_train = np.load(\"data/x.npy\")\n",
    "y_train = np.load(\"data/y.npy\")\n",
    "\n",
    "for name,model in zip(models_str,models):\n",
    "    print('开始训练模型：'+name)\n",
    "    model=model   #建立模型\n",
    "    ss = model.fit(x_train,y_train).predict(x_train)\n",
    "    # df=data2]\n",
    "    print('平均绝对误差为：',mean_absolute_error(y_train,ss))\n",
    "    # print('均方误差为：',mean_squared_error(y_train,ss))\n",
    "    # print('中值绝对误差为：',median_absolute_error(y_train,ss))\n",
    "    # print('可解释方差值为：',explained_variance_score(y_train,ss))\n",
    "    # print('R方值为：',r2_score(y_train,ss))\n",
    "    print('*-*'*15)\n"
   ],
   "metadata": {
    "collapsed": false,
    "ExecuteTime": {
     "end_time": "2023-11-27T11:16:56.406693800Z",
     "start_time": "2023-11-27T11:16:56.116276800Z"
    }
   },
   "id": "de722975738ce88b"
  },
  {
   "cell_type": "code",
   "execution_count": null,
   "outputs": [],
   "source": [],
   "metadata": {
    "collapsed": false,
    "ExecuteTime": {
     "start_time": "2023-11-27T11:02:01.303879900Z"
    }
   },
   "id": "66e635939eeaa7d6"
  }
 ],
 "metadata": {
  "kernelspec": {
   "display_name": "Python 3",
   "language": "python",
   "name": "python3"
  },
  "language_info": {
   "codemirror_mode": {
    "name": "ipython",
    "version": 2
   },
   "file_extension": ".py",
   "mimetype": "text/x-python",
   "name": "python",
   "nbconvert_exporter": "python",
   "pygments_lexer": "ipython2",
   "version": "2.7.6"
  }
 },
 "nbformat": 4,
 "nbformat_minor": 5
}
